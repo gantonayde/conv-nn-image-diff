{
 "cells": [
  {
   "cell_type": "code",
   "execution_count": 1,
   "metadata": {},
   "outputs": [
    {
     "name": "stderr",
     "output_type": "stream",
     "text": [
      "Using TensorFlow backend.\n"
     ]
    }
   ],
   "source": [
    "import numpy as np\n",
    "import tensorflow as tf\n",
    "import matplotlib.pyplot as plt\n",
    "import datetime\n",
    "import keras\n",
    "from keras.datasets import mnist\n",
    "from keras.models import Sequential\n",
    "from keras.layers import Dense, Dropout, Flatten, Reshape\n",
    "from keras.layers import Conv2D, MaxPooling2D, Conv2DTranspose, UpSampling2D, BatchNormalization\n",
    "from keras.layers import LeakyReLU, ReLU\n",
    "from keras import backend as K\n",
    "from random import randrange"
   ]
  },
  {
   "cell_type": "code",
   "execution_count": 2,
   "metadata": {},
   "outputs": [],
   "source": [
    "batch_size = 128\n",
    "num_classes = 10\n",
    "epochs = 1\n",
    "\n",
    "# input image dimensions\n",
    "img_rows, img_cols = 28, 28\n",
    "\n",
    "# the data, split between train and test sets\n",
    "(x_train, y_train), (x_test, y_test) = mnist.load_data()"
   ]
  },
  {
   "cell_type": "code",
   "execution_count": 3,
   "metadata": {},
   "outputs": [],
   "source": [
    "comb_x_train = np.copy(x_train)\n",
    "x_first_digit_train = np.copy(x_train)\n",
    "y_second_digit_train = np.copy(x_train)\n",
    "\n",
    "comb_x_test = np.copy(x_test)\n",
    "x_first_digit_test = np.copy(x_test)\n",
    "y_second_digit_test = np.copy(x_test)"
   ]
  },
  {
   "cell_type": "code",
   "execution_count": 4,
   "metadata": {},
   "outputs": [],
   "source": [
    "# Create new data set\n",
    "for i in range(x_train.shape[0]):\n",
    "    j = randrange(x_train.shape[0])\n",
    "    comb_x_train[i] = x_train[i] + x_train[j]\n",
    "    y_second_digit_train[i] = x_train[j]\n",
    "\n",
    "for i in range(x_test.shape[0]):\n",
    "    j = randrange(x_test.shape[0])\n",
    "    comb_x_test[i] = x_test[i] + x_test[j]\n",
    "    y_second_digit_test[i] = x_test[j]"
   ]
  },
  {
   "cell_type": "code",
   "execution_count": 8,
   "metadata": {},
   "outputs": [
    {
     "data": {
      "text/plain": [
       "(60000, 28, 28)"
      ]
     },
     "execution_count": 8,
     "metadata": {},
     "output_type": "execute_result"
    },
    {
     "data": {
      "image/png": "[encoded data removed]",
      "text/plain": [
       "<Figure size 432x288 with 1 Axes>"
      ]
     },
     "metadata": {
      "needs_background": "light"
     },
     "output_type": "display_data"
    }
   ],
   "source": [
    "plt.imshow(comb_x_test[1])\n",
    "x_train.shape"
   ]
  },
  {
   "cell_type": "code",
   "execution_count": 6,
   "metadata": {},
   "outputs": [
    {
     "data": {
      "text/plain": [
       "<matplotlib.image.AxesImage at 0x7fa29baf5860>"
      ]
     },
     "execution_count": 6,
     "metadata": {},
     "output_type": "execute_result"
    },
    {
     "data": {
      "image/png": "[encoded data removed]",
      "text/plain": [
       "<Figure size 432x288 with 1 Axes>"
      ]
     },
     "metadata": {
      "needs_background": "light"
     },
     "output_type": "display_data"
    }
   ],
   "source": [
    "plt.imshow(x_first_digit_test[1])"
   ]
  },
  {
   "cell_type": "code",
   "execution_count": 7,
   "metadata": {},
   "outputs": [
    {
     "data": {
      "text/plain": [
       "<matplotlib.image.AxesImage at 0x7f5e486d1978>"
      ]
     },
     "execution_count": 7,
     "metadata": {},
     "output_type": "execute_result"
    },
    {
     "data": {
      "image/png": "[encoded data removed]",
      "text/plain": [
       "<Figure size 432x288 with 1 Axes>"
      ]
     },
     "metadata": {
      "needs_background": "light"
     },
     "output_type": "display_data"
    }
   ],
   "source": [
    "plt.imshow(y_second_digit_test[1])"
   ]
  },
  {
   "cell_type": "code",
   "execution_count": 9,
   "metadata": {},
   "outputs": [],
   "source": [
    "# Reshape input data\n",
    "comb_x_train = comb_x_train.reshape(comb_x_train.shape[0], img_rows, img_cols, 1)\n",
    "x_first_digit_train = x_first_digit_train.reshape(x_first_digit_train.shape[0], img_rows, img_cols, 1)\n",
    "y_second_digit_train = y_second_digit_train.reshape(y_second_digit_train.shape[0], img_rows, img_cols, 1)\n",
    "comb_x_test = comb_x_test.reshape(comb_x_test.shape[0], img_rows, img_cols, 1)\n",
    "x_first_digit_test = x_first_digit_test.reshape(x_first_digit_test.shape[0], img_rows, img_cols, 1)\n",
    "y_second_digit_test = y_second_digit_test.reshape(y_second_digit_test.shape[0], img_rows, img_cols, 1)\n",
    "input_shape = (img_rows, img_cols, 2)\n",
    "\n",
    "# Concatenate input into 2 channels on axis 3\n",
    "input_x_train = np.concatenate((comb_x_train,x_first_digit_train),axis=3)\n",
    "input_x_test = np.concatenate((comb_x_test,x_first_digit_test),axis=3)"
   ]
  },
  {
   "cell_type": "code",
   "execution_count": 10,
   "metadata": {},
   "outputs": [],
   "source": [
    "# Normalise input and output\n",
    "input_x_train = input_x_train.astype('float32')\n",
    "input_x_test = input_x_test.astype('float32')\n",
    "output_y_train = y_second_digit_train.astype('float32')\n",
    "output_y_test = y_second_digit_test.astype('float32')\n",
    "\n",
    "input_x_train /= 255\n",
    "input_x_test /= 255\n",
    "output_y_train /= 255\n",
    "output_y_test /= 255"
   ]
  },
  {
   "cell_type": "code",
   "execution_count": 11,
   "metadata": {},
   "outputs": [
    {
     "name": "stdout",
     "output_type": "stream",
     "text": [
      "Model: \"sequential_1\"\n",
      "_________________________________________________________________\n",
      "Layer (type)                 Output Shape              Param #   \n",
      "=================================================================\n",
      "conv2d_1 (Conv2D)            (None, 26, 26, 32)        608       \n",
      "_________________________________________________________________\n",
      "conv2d_2 (Conv2D)            (None, 24, 24, 64)        18496     \n",
      "_________________________________________________________________\n",
      "max_pooling2d_1 (MaxPooling2 (None, 12, 12, 64)        0         \n",
      "_________________________________________________________________\n",
      "dropout_1 (Dropout)          (None, 12, 12, 64)        0         \n",
      "_________________________________________________________________\n",
      "conv2d_3 (Conv2D)            (None, 10, 10, 128)       73856     \n",
      "_________________________________________________________________\n",
      "max_pooling2d_2 (MaxPooling2 (None, 5, 5, 128)         0         \n",
      "_________________________________________________________________\n",
      "dropout_2 (Dropout)          (None, 5, 5, 128)         0         \n",
      "_________________________________________________________________\n",
      "flatten_1 (Flatten)          (None, 3200)              0         \n",
      "_________________________________________________________________\n",
      "dense_1 (Dense)              (None, 400)               1280400   \n",
      "_________________________________________________________________\n",
      "leaky_re_lu_1 (LeakyReLU)    (None, 400)               0         \n",
      "_________________________________________________________________\n",
      "reshape_1 (Reshape)          (None, 5, 5, 16)          0         \n",
      "_________________________________________________________________\n",
      "conv2d_transpose_1 (Conv2DTr (None, 7, 7, 8)           1160      \n",
      "_________________________________________________________________\n",
      "batch_normalization_1 (Batch (None, 7, 7, 8)           32        \n",
      "_________________________________________________________________\n",
      "re_lu_1 (ReLU)               (None, 7, 7, 8)           0         \n",
      "_________________________________________________________________\n",
      "conv2d_transpose_2 (Conv2DTr (None, 14, 14, 4)         292       \n",
      "_________________________________________________________________\n",
      "batch_normalization_2 (Batch (None, 14, 14, 4)         16        \n",
      "_________________________________________________________________\n",
      "re_lu_2 (ReLU)               (None, 14, 14, 4)         0         \n",
      "_________________________________________________________________\n",
      "batch_normalization_3 (Batch (None, 14, 14, 4)         16        \n",
      "_________________________________________________________________\n",
      "re_lu_3 (ReLU)               (None, 14, 14, 4)         0         \n",
      "_________________________________________________________________\n",
      "conv2d_transpose_3 (Conv2DTr (None, 28, 28, 1)         37        \n",
      "=================================================================\n",
      "Total params: 1,374,913\n",
      "Trainable params: 1,374,881\n",
      "Non-trainable params: 32\n",
      "_________________________________________________________________\n"
     ]
    }
   ],
   "source": [
    "# Define CNN\n",
    "model = Sequential()\n",
    "model.add(Conv2D(32, kernel_size=(3, 3),\n",
    "                 activation='relu',\n",
    "                 input_shape=input_shape))\n",
    "model.add(Conv2D(64, (3, 3), activation='relu'))\n",
    "model.add(MaxPooling2D(pool_size=(2, 2)))\n",
    "model.add(Dropout(0.25))\n",
    "model.add(Conv2D(128, (3, 3), activation='relu'))\n",
    "model.add(MaxPooling2D(pool_size=(2, 2)))\n",
    "model.add(Dropout(0.5))\n",
    "model.add(Flatten())\n",
    "model.add(Dense(5*5*16, activation='relu'))\n",
    "#model.add(Dropout(0.5))\n",
    "\n",
    "model.add(LeakyReLU())\n",
    "model.add(Reshape((5, 5, 16)))\n",
    "#model.output_shape == (None, 2, 2, 32) # Note: None is the batch size\n",
    "#model.summary()\n",
    "\n",
    "model.add(Conv2DTranspose(8, (3, 3), strides=(1, 1)))\n",
    "#model.output_shape == (None, 7, 7, 128)\n",
    "model.add(BatchNormalization())\n",
    "model.add(ReLU())\n",
    "model.add(Conv2DTranspose(4, (3, 3), strides=(2, 2),padding='same'))\n",
    "#model.output_shape == (None, 7, 7, 128)\n",
    "model.add(BatchNormalization())\n",
    "model.add(ReLU())\n",
    "#model.summary()\n",
    "#model.add(Conv2DTranspose(16, (3, 3), strides=(2, 2), padding='same', use_bias=False))\n",
    "#model.output_shape == (None, 14, 14, 64)\n",
    "model.add(BatchNormalization())\n",
    "model.add(ReLU())\n",
    "\n",
    "model.add(Conv2DTranspose(1, (3, 3), strides=(2, 2), padding='same', activation='sigmoid'))\n",
    "#model.output_shape == (None, 28, 28, 1)\n",
    "\n",
    "#model.add(Conv2DTranspose(32, (3,3), strides=(2, 2),  activation='leaky.relu', output_shape = (None, 14, 14, 32)))\n",
    "#model.add(Conv2DTranspose(16, (3,3)))\n",
    "#model.add(UpSampling2D())\n",
    "#model.add(UpSampling2D())\n",
    "#model.add(Conv2DTranspose(1, (1,1),  activation='relu'))\n",
    "#model.output_shape == (None, 28, 28, 1)\n",
    "model.compile(loss=keras.losses.binary_crossentropy,\n",
    "              optimizer=keras.optimizers.Adam(),\n",
    "              metrics=['accuracy'])\n",
    "model.summary()"
   ]
  },
  {
   "cell_type": "code",
   "execution_count": 12,
   "metadata": {},
   "outputs": [
    {
     "data": {
      "text/plain": [
       "(60000, 28, 28, 2)"
      ]
     },
     "execution_count": 12,
     "metadata": {},
     "output_type": "execute_result"
    }
   ],
   "source": [
    "input_x_train.shape"
   ]
  },
  {
   "cell_type": "code",
   "execution_count": 21,
   "metadata": {},
   "outputs": [
    {
     "name": "stdout",
     "output_type": "stream",
     "text": [
      "Train on 60000 samples, validate on 10000 samples\n",
      "Epoch 1/40\n",
      "60000/60000 [==============================] - 56s 927us/step - loss: 0.0958 - accuracy: 0.8132 - val_loss: 0.0853 - val_accuracy: 0.8142\n",
      "Epoch 2/40\n",
      "60000/60000 [==============================] - 56s 929us/step - loss: 0.0929 - accuracy: 0.8134 - val_loss: 0.0825 - val_accuracy: 0.8142\n",
      "Epoch 3/40\n",
      "60000/60000 [==============================] - 56s 926us/step - loss: 0.0911 - accuracy: 0.8136 - val_loss: 0.0816 - val_accuracy: 0.8141\n",
      "Epoch 4/40\n",
      "60000/60000 [==============================] - 56s 929us/step - loss: 0.0896 - accuracy: 0.8137 - val_loss: 0.0808 - val_accuracy: 0.8142\n",
      "Epoch 5/40\n",
      "60000/60000 [==============================] - 56s 931us/step - loss: 0.0887 - accuracy: 0.8137 - val_loss: 0.0796 - val_accuracy: 0.8142\n",
      "Epoch 6/40\n",
      "60000/60000 [==============================] - 56s 928us/step - loss: 0.0879 - accuracy: 0.8138 - val_loss: 0.0790 - val_accuracy: 0.8143\n",
      "Epoch 7/40\n",
      "60000/60000 [==============================] - 55s 920us/step - loss: 0.0873 - accuracy: 0.8138 - val_loss: 0.0784 - val_accuracy: 0.8143\n",
      "Epoch 8/40\n",
      "60000/60000 [==============================] - 56s 926us/step - loss: 0.0867 - accuracy: 0.8139 - val_loss: 0.0781 - val_accuracy: 0.8142\n",
      "Epoch 9/40\n",
      "60000/60000 [==============================] - 56s 926us/step - loss: 0.0863 - accuracy: 0.8139 - val_loss: 0.0776 - val_accuracy: 0.8145\n",
      "Epoch 10/40\n",
      "60000/60000 [==============================] - 56s 926us/step - loss: 0.0859 - accuracy: 0.8139 - val_loss: 0.0772 - val_accuracy: 0.8144\n",
      "Epoch 11/40\n",
      "60000/60000 [==============================] - 55s 924us/step - loss: 0.0855 - accuracy: 0.8140 - val_loss: 0.0771 - val_accuracy: 0.8145\n",
      "Epoch 12/40\n",
      "60000/60000 [==============================] - 56s 927us/step - loss: 0.0852 - accuracy: 0.8140 - val_loss: 0.0765 - val_accuracy: 0.8144\n",
      "Epoch 13/40\n",
      "60000/60000 [==============================] - 56s 926us/step - loss: 0.0850 - accuracy: 0.8140 - val_loss: 0.0774 - val_accuracy: 0.8146\n",
      "Epoch 14/40\n",
      "60000/60000 [==============================] - 56s 928us/step - loss: 0.0847 - accuracy: 0.8140 - val_loss: 0.0761 - val_accuracy: 0.8146\n",
      "Epoch 15/40\n",
      "60000/60000 [==============================] - 55s 922us/step - loss: 0.0844 - accuracy: 0.8141 - val_loss: 0.0756 - val_accuracy: 0.8145\n",
      "Epoch 16/40\n",
      "60000/60000 [==============================] - 55s 920us/step - loss: 0.0844 - accuracy: 0.8141 - val_loss: 0.0760 - val_accuracy: 0.8145\n",
      "Epoch 17/40\n",
      "60000/60000 [==============================] - 55s 922us/step - loss: 0.0841 - accuracy: 0.8141 - val_loss: 0.0754 - val_accuracy: 0.8145\n",
      "Epoch 18/40\n",
      "60000/60000 [==============================] - 55s 921us/step - loss: 0.0839 - accuracy: 0.8141 - val_loss: 0.0760 - val_accuracy: 0.8146\n",
      "Epoch 19/40\n",
      "60000/60000 [==============================] - 55s 920us/step - loss: 0.0837 - accuracy: 0.8141 - val_loss: 0.0752 - val_accuracy: 0.8145\n",
      "Epoch 20/40\n",
      "60000/60000 [==============================] - 56s 928us/step - loss: 0.0836 - accuracy: 0.8141 - val_loss: 0.0753 - val_accuracy: 0.8145\n",
      "Epoch 21/40\n",
      "60000/60000 [==============================] - 55s 922us/step - loss: 0.0834 - accuracy: 0.8141 - val_loss: 0.0749 - val_accuracy: 0.8146\n",
      "Epoch 22/40\n",
      "60000/60000 [==============================] - 55s 919us/step - loss: 0.0833 - accuracy: 0.8142 - val_loss: 0.0751 - val_accuracy: 0.8145\n",
      "Epoch 23/40\n",
      "60000/60000 [==============================] - 56s 938us/step - loss: 0.0832 - accuracy: 0.8142 - val_loss: 0.0747 - val_accuracy: 0.8146\n",
      "Epoch 24/40\n",
      "60000/60000 [==============================] - 56s 930us/step - loss: 0.0830 - accuracy: 0.8142 - val_loss: 0.0746 - val_accuracy: 0.8146\n",
      "Epoch 25/40\n",
      "60000/60000 [==============================] - 56s 935us/step - loss: 0.0830 - accuracy: 0.8142 - val_loss: 0.0746 - val_accuracy: 0.8145\n",
      "Epoch 26/40\n",
      "60000/60000 [==============================] - 56s 930us/step - loss: 0.0828 - accuracy: 0.8142 - val_loss: 0.0748 - val_accuracy: 0.8146\n",
      "Epoch 27/40\n",
      "60000/60000 [==============================] - 57s 949us/step - loss: 0.0827 - accuracy: 0.8142 - val_loss: 0.0744 - val_accuracy: 0.8146\n",
      "Epoch 28/40\n",
      "60000/60000 [==============================] - 56s 927us/step - loss: 0.0827 - accuracy: 0.8142 - val_loss: 0.0746 - val_accuracy: 0.8145\n",
      "Epoch 29/40\n",
      "60000/60000 [==============================] - 55s 920us/step - loss: 0.0825 - accuracy: 0.8142 - val_loss: 0.0745 - val_accuracy: 0.8145\n",
      "Epoch 30/40\n",
      "60000/60000 [==============================] - 55s 918us/step - loss: 0.0825 - accuracy: 0.8142 - val_loss: 0.0742 - val_accuracy: 0.8146\n",
      "Epoch 31/40\n",
      "60000/60000 [==============================] - 55s 919us/step - loss: 0.0823 - accuracy: 0.8142 - val_loss: 0.0739 - val_accuracy: 0.8147\n",
      "Epoch 32/40\n",
      "60000/60000 [==============================] - 55s 918us/step - loss: 0.0823 - accuracy: 0.8142 - val_loss: 0.0743 - val_accuracy: 0.8146\n",
      "Epoch 33/40\n",
      "60000/60000 [==============================] - 55s 921us/step - loss: 0.0823 - accuracy: 0.8142 - val_loss: 0.0740 - val_accuracy: 0.8146\n",
      "Epoch 34/40\n",
      "60000/60000 [==============================] - 55s 921us/step - loss: 0.0821 - accuracy: 0.8143 - val_loss: 0.0737 - val_accuracy: 0.8146\n",
      "Epoch 35/40\n",
      "60000/60000 [==============================] - 55s 919us/step - loss: 0.0820 - accuracy: 0.8143 - val_loss: 0.0739 - val_accuracy: 0.8147\n",
      "Epoch 36/40\n",
      "60000/60000 [==============================] - 55s 917us/step - loss: 0.0820 - accuracy: 0.8143 - val_loss: 0.0738 - val_accuracy: 0.8147\n",
      "Epoch 37/40\n",
      "60000/60000 [==============================] - 55s 916us/step - loss: 0.0819 - accuracy: 0.8143 - val_loss: 0.0736 - val_accuracy: 0.8147\n",
      "Epoch 38/40\n",
      "60000/60000 [==============================] - 55s 921us/step - loss: 0.0819 - accuracy: 0.8143 - val_loss: 0.0737 - val_accuracy: 0.8147\n",
      "Epoch 39/40\n",
      "60000/60000 [==============================] - 56s 926us/step - loss: 0.0818 - accuracy: 0.8143 - val_loss: 0.0740 - val_accuracy: 0.8147\n",
      "Epoch 40/40\n",
      "60000/60000 [==============================] - 56s 929us/step - loss: 0.0817 - accuracy: 0.8143 - val_loss: 0.0735 - val_accuracy: 0.8147\n",
      "Test loss: 0.0734543784737587\n",
      "Test accuracy: 0.8146597146987915\n"
     ]
    }
   ],
   "source": [
    "model.fit(input_x_train, output_y_train,\n",
    "          batch_size=batch_size,\n",
    "          epochs=40,\n",
    "          verbose=1,\n",
    "          validation_data=(input_x_test, output_y_test))\n",
    "score = model.evaluate(input_x_test, output_y_test, verbose=0)\n",
    "print('Test loss:', score[0])\n",
    "print('Test accuracy:', score[1])"
   ]
  },
  {
   "cell_type": "code",
   "execution_count": null,
   "metadata": {},
   "outputs": [],
   "source": []
  },
  {
   "cell_type": "code",
   "execution_count": 12,
   "metadata": {},
   "outputs": [],
   "source": [
    "predictions = model.predict(input_x_test)"
   ]
  },
  {
   "cell_type": "code",
   "execution_count": 22,
   "metadata": {},
   "outputs": [],
   "source": [
    "predictions40 = model.predict(input_x_test)"
   ]
  },
  {
   "cell_type": "code",
   "execution_count": 41,
   "metadata": {},
   "outputs": [
    {
     "data": {
      "text/plain": [
       "<matplotlib.image.AxesImage at 0x7f5dc86265c0>"
      ]
     },
     "execution_count": 41,
     "metadata": {},
     "output_type": "execute_result"
    },
    {
     "data": {
      "image/png": "[encoded data removed]",
      "text/plain": [
       "<Figure size 432x288 with 1 Axes>"
      ]
     },
     "metadata": {
      "needs_background": "light"
     },
     "output_type": "display_data"
    }
   ],
   "source": [
    "plt.imshow(predictions[6,:,:,0])"
   ]
  },
  {
   "cell_type": "code",
   "execution_count": 39,
   "metadata": {},
   "outputs": [
    {
     "data": {
      "text/plain": [
       "<matplotlib.image.AxesImage at 0x7f5dc86aed68>"
      ]
     },
     "execution_count": 39,
     "metadata": {},
     "output_type": "execute_result"
    },
    {
     "data": {
      "image/png": "[encoded data removed]",
      "text/plain": [
       "<Figure size 432x288 with 1 Axes>"
      ]
     },
     "metadata": {
      "needs_background": "light"
     },
     "output_type": "display_data"
    }
   ],
   "source": [
    "plt.imshow(predictions40[6,:,:,0])"
   ]
  },
  {
   "cell_type": "code",
   "execution_count": 38,
   "metadata": {},
   "outputs": [
    {
     "data": {
      "text/plain": [
       "<matplotlib.image.AxesImage at 0x7f5dc8679198>"
      ]
     },
     "execution_count": 38,
     "metadata": {},
     "output_type": "execute_result"
    },
    {
     "data": {
      "image/png": "[encoded data removed]",
      "text/plain": [
       "<Figure size 432x288 with 1 Axes>"
      ]
     },
     "metadata": {
      "needs_background": "light"
     },
     "output_type": "display_data"
    }
   ],
   "source": [
    "plt.imshow(output_y_test[6,:,:,0])"
   ]
  },
  {
   "cell_type": "code",
   "execution_count": 44,
   "metadata": {},
   "outputs": [
    {
     "data": {
      "text/plain": [
       "<matplotlib.image.AxesImage at 0x7f5dc8552908>"
      ]
     },
     "execution_count": 44,
     "metadata": {},
     "output_type": "execute_result"
    },
    {
     "data": {
      "image/png": "[encoded data removed]",
      "text/plain": [
       "<Figure size 432x288 with 1 Axes>"
      ]
     },
     "metadata": {
      "needs_background": "light"
     },
     "output_type": "display_data"
    }
   ],
   "source": [
    "plt.imshow(input_x_test[6,:,:,0])"
   ]
  },
  {
   "cell_type": "code",
   "execution_count": 45,
   "metadata": {},
   "outputs": [],
   "source": [
    "model.save(\"model.h5\")"
   ]
  },
  {
   "cell_type": "code",
   "execution_count": null,
   "metadata": {},
   "outputs": [],
   "source": []
  }
 ],
 "metadata": {
  "kernelspec": {
   "display_name": "Python 3",
   "language": "python",
   "name": "python3"
  },
  "language_info": {
   "codemirror_mode": {
    "name": "ipython",
    "version": 3
   },
   "file_extension": ".py",
   "mimetype": "text/x-python",
   "name": "python",
   "nbconvert_exporter": "python",
   "pygments_lexer": "ipython3",
   "version": "3.6.8"
  }
 },
 "nbformat": 4,
 "nbformat_minor": 4
}
